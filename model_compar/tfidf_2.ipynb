{
 "cells": [
  {
   "cell_type": "code",
   "execution_count": 49,
   "metadata": {},
   "outputs": [],
   "source": [
    "from sklearn.feature_extraction.text import TfidfVectorizer \n",
    "import numpy as np\n",
    "from scipy.linalg import norm\n",
    "import pandas as pd\n",
    "def tfidf_similarity(s1, s2): #計算向量之間的相似度\n",
    "    def add_space(s): # 將字中間加入空格\n",
    "        return ' '.join(list(s))\n",
    "    s1, s2 = add_space(s1), add_space(s2) # 轉化為TF矩陣\n",
    "    cv = TfidfVectorizer(tokenizer=lambda s: s.split()) #算cv值\n",
    "    corpus = [s1, s2]\n",
    "    vectors = cv.fit_transform(corpus).toarray() \n",
    "    # 計算TF係數\n",
    "    return np.dot(vectors[0], vectors[1]) / (norm(vectors[0]) * norm(vectors[1]))\n",
    "\n",
    "def stopwordslist(filepath): \n",
    "    #逐行讀檔，將所有的stopword轉成陣列\n",
    "    stopwords = [line.strip() for line in open(filepath, 'r', encoding='utf-8').readlines()]\n",
    "    return stopwords\n",
    "\n",
    "def movestopwords(sentence): \n",
    "    stopwords = stopwordslist('stopword.txt')  # 這裏加載停用詞的路徑，轉成list\n",
    "    outstr = '' \n",
    "    for word in sentence:  # sentence是字串， word是單字或符號\n",
    "        if word not in stopwords:  # 若word不在stopwords裡就執行下個if，如果有就不處理\n",
    "            if word != '\\t'and'\\n': \n",
    "                outstr += word  # outstr 刪除tab、換行、有關stopword的內容\n",
    "    return outstr\n",
    "train=pd.read_csv('2021-12.csv', index_col=0) \n",
    "# index_col=0：此屬性是「Unnamed: 0」欄位當作index欄位\n",
    "article=pd.read_csv('article.csv')"
   ]
  },
  {
   "cell_type": "code",
   "execution_count": 50,
   "metadata": {},
   "outputs": [],
   "source": [
    "article=article['文章'][0]  #「文章」欄位的第0列"
   ]
  },
  {
   "cell_type": "code",
   "execution_count": 54,
   "metadata": {},
   "outputs": [
    {
     "name": "stdout",
     "output_type": "stream",
     "text": [
      "最佳配適度: 844 0.5604698080962596\n",
      "原來你這麼好\n"
     ]
    }
   ],
   "source": [
    "lyrics=train['lyrics'] # train的歌詞欄位，用成List\n",
    "\n",
    "upper_num = 0\n",
    "upper_ind = 0\n",
    "num_ind = 0\n",
    "\n",
    "for text in lyrics: #lyrics的清單裡的每一首歌詞\n",
    "    text=movestopwords(text) # 把每首歌詞的內容刪除tab、換行、有關stopword的內容\n",
    "    text=text.replace(' ','') # 將把空白替代成沒空白 \n",
    "    text=text.replace(',','，') # 將英文逗號換成中文逗號\n",
    "    # print(tfidf_similarity(text, article)) # 配適度\n",
    "    \n",
    "    if tfidf_similarity(text, article) > upper_num:\n",
    "        upper_num = tfidf_similarity(text, article)\n",
    "        upper_ind = num_ind\n",
    "    num_ind += 1\n",
    "\n",
    "print('最佳配適度:', upper_ind, upper_num)\n",
    "print(train.name.iloc[upper_ind]) # name是歌曲名稱\n",
    "# iloc[upper_ind]:找到清單中指定列資料"
   ]
  },
  {
   "cell_type": "code",
   "execution_count": null,
   "metadata": {},
   "outputs": [],
   "source": []
  }
 ],
 "metadata": {
  "kernelspec": {
   "display_name": "Python 3.9.0 64-bit",
   "language": "python",
   "name": "python3"
  },
  "language_info": {
   "codemirror_mode": {
    "name": "ipython",
    "version": 3
   },
   "file_extension": ".py",
   "mimetype": "text/x-python",
   "name": "python",
   "nbconvert_exporter": "python",
   "pygments_lexer": "ipython3",
   "version": "3.9.0"
  },
  "orig_nbformat": 4,
  "vscode": {
   "interpreter": {
    "hash": "9bf8e5f6ae5a440c6649c43ab49956741af2ee52909e232ddcd4abcc58504c21"
   }
  }
 },
 "nbformat": 4,
 "nbformat_minor": 2
}
